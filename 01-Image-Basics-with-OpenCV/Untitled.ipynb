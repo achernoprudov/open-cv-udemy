{
 "cells": [
  {
   "cell_type": "code",
   "execution_count": 3,
   "id": "e57ea1c1",
   "metadata": {},
   "outputs": [],
   "source": [
    "import numpy as np\n",
    "import cv2\n",
    "\n",
    "img = np.zeros((512,512,3))\n",
    "\n",
    "# Funciton\n",
    "\n",
    "def draw_circle(event,x,y,flags,param):\n",
    "    if event == cv2.EVENT_LBUTTONDOWN:\n",
    "        cv2.circle(img,center=(x,y),radius=20,color=(255,0,0),thickness=8)\n",
    "\n",
    "cv2.namedWindow(winname='drawing')\n",
    "cv2.setMouseCallback('drawing', draw_circle)\n",
    "\n",
    "# Showing image\n",
    "\n",
    "# wait = True\n",
    "# while wait:\n",
    "#     cv2.imshow('drawing',img)\n",
    "#     wait = cv2.waitKey()=='q113'\n",
    "\n",
    "while True:\n",
    "    cv2.imshow('drawing',img)\n",
    "    \n",
    "    if cv2.waitKey(20) & 0xFF == 27:\n",
    "        break\n",
    "        \n",
    "cv2.destroyAllWindows()"
   ]
  },
  {
   "cell_type": "code",
   "execution_count": null,
   "id": "dbf2e2e7",
   "metadata": {},
   "outputs": [],
   "source": []
  }
 ],
 "metadata": {
  "kernelspec": {
   "display_name": "Python 3 (ipykernel)",
   "language": "python",
   "name": "python3"
  },
  "language_info": {
   "codemirror_mode": {
    "name": "ipython",
    "version": 3
   },
   "file_extension": ".py",
   "mimetype": "text/x-python",
   "name": "python",
   "nbconvert_exporter": "python",
   "pygments_lexer": "ipython3",
   "version": "3.11.5"
  }
 },
 "nbformat": 4,
 "nbformat_minor": 5
}
